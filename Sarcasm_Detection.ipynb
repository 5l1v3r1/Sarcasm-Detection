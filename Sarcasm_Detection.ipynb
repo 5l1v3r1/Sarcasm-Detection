{
  "nbformat": 4,
  "nbformat_minor": 0,
  "metadata": {
    "colab": {
      "name": "Sarcasm Detection.ipynb",
      "version": "0.3.2",
      "provenance": [],
      "collapsed_sections": [],
      "include_colab_link": true
    },
    "kernelspec": {
      "name": "python3",
      "display_name": "Python 3"
    },
    "accelerator": "GPU"
  },
  "cells": [
    {
      "cell_type": "markdown",
      "metadata": {
        "id": "view-in-github",
        "colab_type": "text"
      },
      "source": [
        "<a href=\"https://colab.research.google.com/github/manashpratim/Sarcasm-Detection/blob/master/Sarcasm_Detection.ipynb\" target=\"_parent\"><img src=\"https://colab.research.google.com/assets/colab-badge.svg\" alt=\"Open In Colab\"/></a>"
      ]
    },
    {
      "cell_type": "code",
      "metadata": {
        "id": "vfPsP_sSqH2o",
        "colab_type": "code",
        "outputId": "50608176-5f62-413b-8fa7-bf8306f228b5",
        "colab": {
          "base_uri": "https://localhost:8080/",
          "height": 237
        }
      },
      "source": [
        "#Downloading the dataset\n",
        "!wget --no-check-certificate \\\n",
        "      \"https://storage.googleapis.com/kaggle-datasets/30764/39238/Sarcasm_Headlines_Dataset.json.zip?GoogleAccessId=web-data@kaggle-161607.iam.gserviceaccount.com&Expires=1561457285&Signature=iF0OFX3Y7%2FsA%2Frg2BhTIlg%2FfAu%2BsxT4cQnOAI%2BthZFO2iltMdBQop0TBuE1QRrN4n8J6jBi235F81nf6CJ%2FFkx7Fx3mc4o2imDoRIK%2FPGC6Go4B8pyf9W3McsglpUVfkWRO8RX3zeKUZmbUkd9aP0WoMbrYo2kF0Fw5FaOBjjWnfJZjk3UPqME4U7b2KB08e%2BQknBMBLFkOE65TtZEHWa056gI2JoE37riXx0G6qjyypiPTmjePahOUE4EtPbDRUp2vukU%2FHEp%2Bh%2BNI9yx%2FruiTKufvD%2FdhMO87AjW3esGFwr41fGNlKrFihOcPSzi0%2FiyEAAH%2F8My7X43G777Vijw%3D%3D\"\\\n",
        "      -O \"/tmp/sarcasm.zip\""
      ],
      "execution_count": 1,
      "outputs": [
        {
          "output_type": "stream",
          "text": [
            "--2019-06-22 13:03:11--  https://storage.googleapis.com/kaggle-datasets/30764/39238/Sarcasm_Headlines_Dataset.json.zip?GoogleAccessId=web-data@kaggle-161607.iam.gserviceaccount.com&Expires=1561457285&Signature=iF0OFX3Y7%2FsA%2Frg2BhTIlg%2FfAu%2BsxT4cQnOAI%2BthZFO2iltMdBQop0TBuE1QRrN4n8J6jBi235F81nf6CJ%2FFkx7Fx3mc4o2imDoRIK%2FPGC6Go4B8pyf9W3McsglpUVfkWRO8RX3zeKUZmbUkd9aP0WoMbrYo2kF0Fw5FaOBjjWnfJZjk3UPqME4U7b2KB08e%2BQknBMBLFkOE65TtZEHWa056gI2JoE37riXx0G6qjyypiPTmjePahOUE4EtPbDRUp2vukU%2FHEp%2Bh%2BNI9yx%2FruiTKufvD%2FdhMO87AjW3esGFwr41fGNlKrFihOcPSzi0%2FiyEAAH%2F8My7X43G777Vijw%3D%3D\n",
            "Resolving storage.googleapis.com (storage.googleapis.com)... 172.217.212.128, 2607:f8b0:4001:c14::80\n",
            "Connecting to storage.googleapis.com (storage.googleapis.com)|172.217.212.128|:443... connected.\n",
            "HTTP request sent, awaiting response... 200 OK\n",
            "Length: 1670880 (1.6M) [application/zip]\n",
            "Saving to: ‘/tmp/sarcasm.zip’\n",
            "\n",
            "\r/tmp/sarcasm.zip      0%[                    ]       0  --.-KB/s               \r/tmp/sarcasm.zip    100%[===================>]   1.59M  --.-KB/s    in 0.01s   \n",
            "\n",
            "2019-06-22 13:03:11 (155 MB/s) - ‘/tmp/sarcasm.zip’ saved [1670880/1670880]\n",
            "\n"
          ],
          "name": "stdout"
        }
      ]
    },
    {
      "cell_type": "code",
      "metadata": {
        "id": "W9f-SRr2q0dt",
        "colab_type": "code",
        "colab": {}
      },
      "source": [
        "# Unzipping the downloaded dataset\n",
        "import os\n",
        "import zipfile\n",
        "\n",
        "local_zip='/tmp/sarcasm.zip'\n",
        "zip_ref=zipfile.ZipFile(local_zip,'r')\n",
        "zip_ref.extractall('/tmp/sarcasm')\n",
        "zip_ref.close()"
      ],
      "execution_count": 0,
      "outputs": []
    },
    {
      "cell_type": "code",
      "metadata": {
        "id": "vx_UPmFCtTC7",
        "colab_type": "code",
        "colab": {}
      },
      "source": [
        "#Opening the json file\n",
        "import json\n",
        "rows = []\n",
        "for line in open('/tmp/sarcasm/Sarcasm_Headlines_Dataset.json', 'r'):\n",
        "    rows.append(json.loads(line))"
      ],
      "execution_count": 0,
      "outputs": []
    },
    {
      "cell_type": "code",
      "metadata": {
        "id": "gYrGxoolq8aZ",
        "colab_type": "code",
        "colab": {}
      },
      "source": [
        "#Suffling the data and splitting the data into training and test sets \n",
        "import random\n",
        "SPLIT_SIZE=0.9\n",
        "suffled_set=random.sample(rows,len(rows))\n",
        "train_length=int(len(suffled_set)*SPLIT_SIZE)\n",
        "train_set=suffled_set[:train_length]\n",
        "test_set=suffled_set[train_length:]"
      ],
      "execution_count": 0,
      "outputs": []
    },
    {
      "cell_type": "code",
      "metadata": {
        "id": "4PaUlhjcvcgs",
        "colab_type": "code",
        "outputId": "26f65b2c-5bd4-4d90-8399-8309b8700393",
        "colab": {
          "base_uri": "https://localhost:8080/",
          "height": 72
        }
      },
      "source": [
        "#Data Summary\n",
        "print('Total length of the dataset: ',len(suffled_set))\n",
        "print('Length of the Training dataset: ',len(train_set))\n",
        "print('Length of the Test dataset: ',len(test_set))"
      ],
      "execution_count": 5,
      "outputs": [
        {
          "output_type": "stream",
          "text": [
            "Total length of the dataset:  26709\n",
            "Length of the Training dataset:  24038\n",
            "Length of the Test dataset:  2671\n"
          ],
          "name": "stdout"
        }
      ]
    },
    {
      "cell_type": "code",
      "metadata": {
        "id": "SvTrRK_DtZ45",
        "colab_type": "code",
        "outputId": "0642be88-419d-4c53-f71c-642c6c5f50ae",
        "colab": {
          "base_uri": "https://localhost:8080/",
          "height": 72
        }
      },
      "source": [
        "#Data Format\n",
        "train_set[1000]"
      ],
      "execution_count": 6,
      "outputs": [
        {
          "output_type": "execute_result",
          "data": {
            "text/plain": [
              "{'article_link': 'https://www.huffingtonpost.com/entry/vegas-baby-well-minus-our-babies_b_5684367.html',\n",
              " 'headline': 'vegas, baby! (well, minus our babies)',\n",
              " 'is_sarcastic': 0}"
            ]
          },
          "metadata": {
            "tags": []
          },
          "execution_count": 6
        }
      ]
    },
    {
      "cell_type": "code",
      "metadata": {
        "id": "1cV42oc53B3z",
        "colab_type": "code",
        "colab": {}
      },
      "source": [
        "#This list is available at https://github.com/Yoast/YoastSEO.js/blob/develop/src/config/stopwords.js\n",
        "stopwords=[ \"a\", \"about\", \"above\", \"after\", \"again\", \"against\", \"all\", \"am\", \"an\", \"and\", \"any\", \"are\", \"as\", \"at\", \"be\", \"because\", \"been\", \"before\", \"being\", \"below\", \"between\", \"both\", \"but\", \"by\", \"could\", \"did\", \"do\", \"does\", \"doing\", \"down\", \"during\", \"each\", \"few\", \"for\", \"from\", \"further\", \"had\", \"has\", \"have\", \"having\", \"he\", \"he'd\", \"he'll\", \"he's\", \"her\", \"here\", \"here's\", \"hers\", \"herself\", \"him\", \"himself\", \"his\", \"how\", \"how's\", \"i\", \"i'd\", \"i'll\", \"i'm\", \"i've\", \"if\", \"in\", \"into\", \"is\", \"it\", \"it's\", \"its\", \"itself\", \"let's\", \"me\", \"more\", \"most\", \"my\", \"myself\", \"nor\", \"of\", \"on\", \"once\", \"only\", \"or\", \"other\", \"ought\", \"our\", \"ours\", \"ourselves\", \"out\", \"over\", \"own\", \"same\", \"she\", \"she'd\", \"she'll\", \"she's\", \"should\", \"so\", \"some\", \"such\", \"than\", \"that\", \"that's\", \"the\", \"their\", \"theirs\", \"them\", \"themselves\", \"then\", \"there\", \"there's\", \"these\", \"they\", \"they'd\", \"they'll\", \"they're\", \"they've\", \"this\", \"those\", \"through\", \"to\", \"too\", \"under\", \"until\", \"up\", \"very\", \"was\", \"we\", \"we'd\", \"we'll\", \"we're\", \"we've\", \"were\", \"what\", \"what's\", \"when\", \"when's\", \"where\", \"where's\", \"which\", \"while\", \"who\", \"who's\", \"whom\", \"why\", \"why's\", \"with\", \"would\", \"you\", \"you'd\", \"you'll\", \"you're\", \"you've\", \"your\", \"yours\", \"yourself\", \"yourselves\" ]"
      ],
      "execution_count": 0,
      "outputs": []
    },
    {
      "cell_type": "code",
      "metadata": {
        "id": "RtHAQW6G3VTv",
        "colab_type": "code",
        "colab": {}
      },
      "source": [
        "#Function to remove stopwords\n",
        "def remove_stopwords(sentence):\n",
        "  for word in stopwords:\n",
        "    token=' '+word+' '\n",
        "    sentence=sentence.replace(token,' ')\n",
        "    sentence=sentence.replace('  ',' ')\n",
        "  return sentence"
      ],
      "execution_count": 0,
      "outputs": []
    },
    {
      "cell_type": "code",
      "metadata": {
        "id": "pv4FShuLwQwm",
        "colab_type": "code",
        "colab": {}
      },
      "source": [
        "#Function to get the plain text from the link of an article\n",
        "def get_article(link):\n",
        "  try:\n",
        "    from bs4 import BeautifulSoup\n",
        "    import urllib.request\n",
        "\n",
        "    user_agent = 'Mozilla/5.0 (Windows; U; Windows NT 5.1; en-US; rv:1.9.0.7) Gecko/2009021910 Firefox/3.0.7'\n",
        "\n",
        "    url = link\n",
        "\n",
        "    headers={'User-Agent':user_agent,} \n",
        "\n",
        "    request=urllib.request.Request(url,None,headers) #The assembled request\n",
        "    response = urllib.request.urlopen(request)\n",
        "    html= response.read()\n",
        "    soup = BeautifulSoup(html)\n",
        "\n",
        "    # kill all script and style elements\n",
        "    for script in soup([\"script\", \"style\"]):\n",
        "        script.extract()    # rip it out\n",
        "\n",
        "    # get text\n",
        "    text = soup.get_text()\n",
        "\n",
        "    # break into lines and remove leading and trailing space on each\n",
        "    lines = (line.strip() for line in text.splitlines())\n",
        "    # break multi-headlines into a line each\n",
        "    chunks = (phrase.strip() for line in lines for phrase in line.split(\"  \"))\n",
        "    # drop blank lines\n",
        "    text = '\\n'.join(chunk for chunk in chunks if chunk)\n",
        "    return ' '.join(text.split())\n",
        "  except:\n",
        "    return 'article not available'\n",
        "    pass\n",
        "  \n",
        " "
      ],
      "execution_count": 0,
      "outputs": []
    },
    {
      "cell_type": "code",
      "metadata": {
        "id": "avDhe2Hs0lrL",
        "colab_type": "code",
        "colab": {}
      },
      "source": [
        "#Function to separate the articles, headlines and labels from the data\n",
        "def extract(array):\n",
        "  \n",
        "  #articles=[]\n",
        "  headlines=[]\n",
        "  labels=[]\n",
        "  for i in range(len(array)):\n",
        "    labels.append(array[i]['is_sarcastic'])\n",
        "    headlines.append(remove_stopwords(array[i]['headline']))\n",
        "    #articles.append(get_article(array[i]['article_link']))\n",
        "  #return articles,headlines,labels\n",
        "  return headlines,labels"
      ],
      "execution_count": 0,
      "outputs": []
    },
    {
      "cell_type": "code",
      "metadata": {
        "id": "AFpG2G0W8kq7",
        "colab_type": "code",
        "colab": {}
      },
      "source": [
        "#Extracting articles, headlines and labels from the data\n",
        "#train_articles,train_headlines,train_labels=extract(train_set)\n",
        "train_headlines,train_labels=extract(train_set)\n",
        "#test_articles,test_headlines,test_labels=extract(test_set)\n",
        "test_headlines,test_labels=extract(test_set)"
      ],
      "execution_count": 0,
      "outputs": []
    },
    {
      "cell_type": "code",
      "metadata": {
        "id": "OMfJ4sL41MnL",
        "colab_type": "code",
        "colab": {}
      },
      "source": [
        "#Preprocessing the training and test headlines for the word embedding\n",
        "vocab_size = 10000\n",
        "embedding_dim = 16\n",
        "max_length = 120\n",
        "trunc_type='post'\n",
        "oov_tok = \"<OOV>\"\n",
        "\n",
        "import tensorflow as tf\n",
        "from tensorflow import keras\n",
        "from tensorflow.keras.preprocessing.text import Tokenizer\n",
        "from tensorflow.keras.preprocessing.sequence import pad_sequences\n",
        "\n",
        "tokenizer = Tokenizer(num_words = vocab_size, oov_token=oov_tok)\n",
        "tokenizer.fit_on_texts(train_headlines)\n",
        "word_index = tokenizer.word_index\n",
        "sequences = tokenizer.texts_to_sequences(train_headlines)\n",
        "padded = pad_sequences(sequences,maxlen=max_length, truncating=trunc_type)\n",
        "\n",
        "test_sequences = tokenizer.texts_to_sequences(test_headlines)\n",
        "test_padded = pad_sequences(test_sequences,maxlen=max_length)\n"
      ],
      "execution_count": 0,
      "outputs": []
    },
    {
      "cell_type": "code",
      "metadata": {
        "id": "8Z4t8mvm34Sl",
        "colab_type": "code",
        "colab": {}
      },
      "source": [
        "#Building the CNN Model\n",
        "model = tf.keras.Sequential([\n",
        "    tf.keras.layers.Embedding(vocab_size, embedding_dim, input_length=max_length),\n",
        "    tf.keras.layers.Conv1D(32,3,activation='relu'),\n",
        "    tf.keras.layers.MaxPooling1D(2),\n",
        "    #tf.keras.layers.Dropout(0.2),\n",
        "    tf.keras.layers.Flatten(),\n",
        "    tf.keras.layers.Dense(6, activation='relu'),\n",
        "    tf.keras.layers.Dense(1, activation='sigmoid')\n",
        "])\n",
        "#model.summary()"
      ],
      "execution_count": 0,
      "outputs": []
    },
    {
      "cell_type": "code",
      "metadata": {
        "id": "8fbYwVW8rUWN",
        "colab_type": "code",
        "outputId": "fdf91fd5-9967-48fa-a434-a1953fbe9788",
        "colab": {
          "base_uri": "https://localhost:8080/",
          "height": 474
        }
      },
      "source": [
        "model.compile(loss='binary_crossentropy',optimizer='adagrad',metrics=['accuracy'])\n",
        "num_epochs = 10\n",
        "history=model.fit(padded, train_labels, epochs=num_epochs, validation_data=(test_padded, test_labels))"
      ],
      "execution_count": 47,
      "outputs": [
        {
          "output_type": "stream",
          "text": [
            "W0622 13:31:21.764677 140218364299136 deprecation.py:506] From /usr/local/lib/python3.6/dist-packages/tensorflow/python/keras/optimizer_v2/adagrad.py:105: calling Constant.__init__ (from tensorflow.python.ops.init_ops) with dtype is deprecated and will be removed in a future version.\n",
            "Instructions for updating:\n",
            "Call initializer instance with the dtype argument instead of passing it to the constructor\n"
          ],
          "name": "stderr"
        },
        {
          "output_type": "stream",
          "text": [
            "Train on 24038 samples, validate on 2671 samples\n",
            "Epoch 1/10\n",
            "24038/24038 [==============================] - 3s 121us/sample - loss: 9.7024e-04 - acc: 0.9997 - val_loss: 1.4518 - val_acc: 0.8061\n",
            "Epoch 2/10\n",
            "24038/24038 [==============================] - 2s 101us/sample - loss: 8.2894e-04 - acc: 0.9997 - val_loss: 1.4658 - val_acc: 0.8061\n",
            "Epoch 3/10\n",
            "24038/24038 [==============================] - 2s 102us/sample - loss: 7.8677e-04 - acc: 0.9997 - val_loss: 1.4739 - val_acc: 0.8068\n",
            "Epoch 4/10\n",
            "24038/24038 [==============================] - 2s 102us/sample - loss: 7.6058e-04 - acc: 0.9997 - val_loss: 1.4738 - val_acc: 0.8049\n",
            "Epoch 5/10\n",
            "24038/24038 [==============================] - 2s 102us/sample - loss: 7.4165e-04 - acc: 0.9997 - val_loss: 1.4805 - val_acc: 0.8064\n",
            "Epoch 6/10\n",
            "24038/24038 [==============================] - 2s 104us/sample - loss: 7.2629e-04 - acc: 0.9998 - val_loss: 1.4854 - val_acc: 0.8061\n",
            "Epoch 7/10\n",
            "24038/24038 [==============================] - 2s 100us/sample - loss: 7.1368e-04 - acc: 0.9997 - val_loss: 1.4857 - val_acc: 0.8061\n",
            "Epoch 8/10\n",
            "24038/24038 [==============================] - 2s 102us/sample - loss: 7.0356e-04 - acc: 0.9998 - val_loss: 1.4910 - val_acc: 0.8053\n",
            "Epoch 9/10\n",
            "24038/24038 [==============================] - 2s 102us/sample - loss: 6.9522e-04 - acc: 0.9997 - val_loss: 1.4935 - val_acc: 0.8049\n",
            "Epoch 10/10\n",
            "24038/24038 [==============================] - 2s 102us/sample - loss: 6.8744e-04 - acc: 0.9998 - val_loss: 1.4956 - val_acc: 0.8046\n"
          ],
          "name": "stdout"
        }
      ]
    },
    {
      "cell_type": "code",
      "metadata": {
        "id": "jkAx_IzhsQKt",
        "colab_type": "code",
        "outputId": "5a7954a6-2921-4078-fb99-1bf41f676a20",
        "colab": {
          "base_uri": "https://localhost:8080/",
          "height": 521
        }
      },
      "source": [
        "#Evaluating Accuracy and Loss of the model\n",
        "%matplotlib inline\n",
        "acc=history.history['acc']\n",
        "val_acc=history.history['val_acc']\n",
        "loss=history.history['loss']\n",
        "val_loss=history.history['val_loss']\n",
        "\n",
        "epochs=range(len(acc)) #No. of epochs\n",
        "\n",
        "#Plot training and validation accuracy per epoch\n",
        "import matplotlib.pyplot as plt\n",
        "plt.plot(epochs,acc,'r',label='Training Accuracy')\n",
        "plt.plot(epochs,val_acc,'g',label='Testing Accuracy')\n",
        "plt.legend()\n",
        "plt.figure()\n",
        "\n",
        "#Plot training and validation loss per epoch\n",
        "plt.plot(epochs,loss,'r',label='Training Loss')\n",
        "plt.plot(epochs,val_loss,'g',label='Testing Loss')\n",
        "plt.legend()\n",
        "plt.show()"
      ],
      "execution_count": 48,
      "outputs": [
        {
          "output_type": "display_data",
          "data": {
            "image/png": "[encoded data removed]",
            "text/plain": [
              "<Figure size 432x288 with 1 Axes>"
            ]
          },
          "metadata": {
            "tags": []
          }
        },
        {
          "output_type": "display_data",
          "data": {
            "image/png": "[encoded data removed]",
            "text/plain": [
              "<Figure size 432x288 with 1 Axes>"
            ]
          },
          "metadata": {
            "tags": []
          }
        }
      ]
    }
  ]
}