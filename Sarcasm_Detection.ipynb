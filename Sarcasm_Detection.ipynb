{
  "nbformat": 4,
  "nbformat_minor": 0,
  "metadata": {
    "colab": {
      "name": "Sarcasm Detection.ipynb",
      "version": "0.3.2",
      "provenance": [],
      "collapsed_sections": [],
      "include_colab_link": true
    },
    "kernelspec": {
      "name": "python3",
      "display_name": "Python 3"
    },
    "accelerator": "GPU"
  },
  "cells": [
    {
      "cell_type": "markdown",
      "metadata": {
        "id": "view-in-github",
        "colab_type": "text"
      },
      "source": [
        "<a href=\"https://colab.research.google.com/github/manashpratim/Sarcasm-Detection/blob/master/Sarcasm_Detection.ipynb\" target=\"_parent\"><img src=\"https://colab.research.google.com/assets/colab-badge.svg\" alt=\"Open In Colab\"/></a>"
      ]
    },
    {
      "cell_type": "code",
      "metadata": {
        "id": "vfPsP_sSqH2o",
        "colab_type": "code",
        "outputId": "50608176-5f62-413b-8fa7-bf8306f228b5",
        "colab": {
          "base_uri": "https://localhost:8080/",
          "height": 237
        }
      },
      "source": [
        "#Downloading the dataset\n",
        "!wget --no-check-certificate \\\n",
        "      \"https://storage.googleapis.com/kaggle-datasets/30764/39238/Sarcasm_Headlines_Dataset.json.zip?GoogleAccessId=web-data@kaggle-161607.iam.gserviceaccount.com&Expires=1561457285&Signature=iF0OFX3Y7%2FsA%2Frg2BhTIlg%2FfAu%2BsxT4cQnOAI%2BthZFO2iltMdBQop0TBuE1QRrN4n8J6jBi235F81nf6CJ%2FFkx7Fx3mc4o2imDoRIK%2FPGC6Go4B8pyf9W3McsglpUVfkWRO8RX3zeKUZmbUkd9aP0WoMbrYo2kF0Fw5FaOBjjWnfJZjk3UPqME4U7b2KB08e%2BQknBMBLFkOE65TtZEHWa056gI2JoE37riXx0G6qjyypiPTmjePahOUE4EtPbDRUp2vukU%2FHEp%2Bh%2BNI9yx%2FruiTKufvD%2FdhMO87AjW3esGFwr41fGNlKrFihOcPSzi0%2FiyEAAH%2F8My7X43G777Vijw%3D%3D\"\\\n",
        "      -O \"/tmp/sarcasm.zip\""
      ],
      "execution_count": 1,
      "outputs": [
        {
          "output_type": "stream",
          "text": [
            "--2019-06-22 13:03:11--  https://storage.googleapis.com/kaggle-datasets/30764/39238/Sarcasm_Headlines_Dataset.json.zip?GoogleAccessId=web-data@kaggle-161607.iam.gserviceaccount.com&Expires=1561457285&Signature=iF0OFX3Y7%2FsA%2Frg2BhTIlg%2FfAu%2BsxT4cQnOAI%2BthZFO2iltMdBQop0TBuE1QRrN4n8J6jBi235F81nf6CJ%2FFkx7Fx3mc4o2imDoRIK%2FPGC6Go4B8pyf9W3McsglpUVfkWRO8RX3zeKUZmbUkd9aP0WoMbrYo2kF0Fw5FaOBjjWnfJZjk3UPqME4U7b2KB08e%2BQknBMBLFkOE65TtZEHWa056gI2JoE37riXx0G6qjyypiPTmjePahOUE4EtPbDRUp2vukU%2FHEp%2Bh%2BNI9yx%2FruiTKufvD%2FdhMO87AjW3esGFwr41fGNlKrFihOcPSzi0%2FiyEAAH%2F8My7X43G777Vijw%3D%3D\n",
            "Resolving storage.googleapis.com (storage.googleapis.com)... 172.217.212.128, 2607:f8b0:4001:c14::80\n",
            "Connecting to storage.googleapis.com (storage.googleapis.com)|172.217.212.128|:443... connected.\n",
            "HTTP request sent, awaiting response... 200 OK\n",
            "Length: 1670880 (1.6M) [application/zip]\n",
            "Saving to: ‘/tmp/sarcasm.zip’\n",
            "\n",
            "\r/tmp/sarcasm.zip      0%[                    ]       0  --.-KB/s               \r/tmp/sarcasm.zip    100%[===================>]   1.59M  --.-KB/s    in 0.01s   \n",
            "\n",
            "2019-06-22 13:03:11 (155 MB/s) - ‘/tmp/sarcasm.zip’ saved [1670880/1670880]\n",
            "\n"
          ],
          "name": "stdout"
        }
      ]
    },
    {
      "cell_type": "code",
      "metadata": {
        "id": "W9f-SRr2q0dt",
        "colab_type": "code",
        "colab": {}
      },
      "source": [
        "# Unzipping the downloaded dataset\n",
        "import os\n",
        "import zipfile\n",
        "\n",
        "local_zip='/tmp/sarcasm.zip'\n",
        "zip_ref=zipfile.ZipFile(local_zip,'r')\n",
        "zip_ref.extractall('/tmp/sarcasm')\n",
        "zip_ref.close()"
      ],
      "execution_count": 0,
      "outputs": []
    },
    {
      "cell_type": "code",
      "metadata": {
        "id": "vx_UPmFCtTC7",
        "colab_type": "code",
        "colab": {}
      },
      "source": [
        "#Opening the json file\n",
        "import json\n",
        "rows = []\n",
        "for line in open('/tmp/sarcasm/Sarcasm_Headlines_Dataset.json', 'r'):\n",
        "    rows.append(json.loads(line))"
      ],
      "execution_count": 0,
      "outputs": []
    },
    {
      "cell_type": "code",
      "metadata": {
        "id": "gYrGxoolq8aZ",
        "colab_type": "code",
        "colab": {}
      },
      "source": [
        "#Suffling the data and splitting the data into training and test sets \n",
        "import random\n",
        "SPLIT_SIZE=0.9\n",
        "suffled_set=random.sample(rows,len(rows))\n",
        "train_length=int(len(suffled_set)*SPLIT_SIZE)\n",
        "train_set=suffled_set[:train_length]\n",
        "test_set=suffled_set[train_length:]"
      ],
      "execution_count": 0,
      "outputs": []
    },
    {
      "cell_type": "code",
      "metadata": {
        "id": "4PaUlhjcvcgs",
        "colab_type": "code",
        "outputId": "26f65b2c-5bd4-4d90-8399-8309b8700393",
        "colab": {
          "base_uri": "https://localhost:8080/",
          "height": 72
        }
      },
      "source": [
        "#Data Summary\n",
        "print('Total length of the dataset: ',len(suffled_set))\n",
        "print('Length of the Training dataset: ',len(train_set))\n",
        "print('Length of the Test dataset: ',len(test_set))"
      ],
      "execution_count": 5,
      "outputs": [
        {
          "output_type": "stream",
          "text": [
            "Total length of the dataset:  26709\n",
            "Length of the Training dataset:  24038\n",
            "Length of the Test dataset:  2671\n"
          ],
          "name": "stdout"
        }
      ]
    },
    {
      "cell_type": "code",
      "metadata": {
        "id": "SvTrRK_DtZ45",
        "colab_type": "code",
        "outputId": "0642be88-419d-4c53-f71c-642c6c5f50ae",
        "colab": {
          "base_uri": "https://localhost:8080/",
          "height": 72
        }
      },
      "source": [
        "#Data Format\n",
        "train_set[1000]"
      ],
      "execution_count": 6,
      "outputs": [
        {
          "output_type": "execute_result",
          "data": {
            "text/plain": [
              "{'article_link': 'https://www.huffingtonpost.com/entry/vegas-baby-well-minus-our-babies_b_5684367.html',\n",
              " 'headline': 'vegas, baby! (well, minus our babies)',\n",
              " 'is_sarcastic': 0}"
            ]
          },
          "metadata": {
            "tags": []
          },
          "execution_count": 6
        }
      ]
    },
    {
      "cell_type": "code",
      "metadata": {
        "id": "1cV42oc53B3z",
        "colab_type": "code",
        "colab": {}
      },
      "source": [
        "#This list is available at https://github.com/Yoast/YoastSEO.js/blob/develop/src/config/stopwords.js\n",
        "stopwords=[ \"a\", \"about\", \"above\", \"after\", \"again\", \"against\", \"all\", \"am\", \"an\", \"and\", \"any\", \"are\", \"as\", \"at\", \"be\", \"because\", \"been\", \"before\", \"being\", \"below\", \"between\", \"both\", \"but\", \"by\", \"could\", \"did\", \"do\", \"does\", \"doing\", \"down\", \"during\", \"each\", \"few\", \"for\", \"from\", \"further\", \"had\", \"has\", \"have\", \"having\", \"he\", \"he'd\", \"he'll\", \"he's\", \"her\", \"here\", \"here's\", \"hers\", \"herself\", \"him\", \"himself\", \"his\", \"how\", \"how's\", \"i\", \"i'd\", \"i'll\", \"i'm\", \"i've\", \"if\", \"in\", \"into\", \"is\", \"it\", \"it's\", \"its\", \"itself\", \"let's\", \"me\", \"more\", \"most\", \"my\", \"myself\", \"nor\", \"of\", \"on\", \"once\", \"only\", \"or\", \"other\", \"ought\", \"our\", \"ours\", \"ourselves\", \"out\", \"over\", \"own\", \"same\", \"she\", \"she'd\", \"she'll\", \"she's\", \"should\", \"so\", \"some\", \"such\", \"than\", \"that\", \"that's\", \"the\", \"their\", \"theirs\", \"them\", \"themselves\", \"then\", \"there\", \"there's\", \"these\", \"they\", \"they'd\", \"they'll\", \"they're\", \"they've\", \"this\", \"those\", \"through\", \"to\", \"too\", \"under\", \"until\", \"up\", \"very\", \"was\", \"we\", \"we'd\", \"we'll\", \"we're\", \"we've\", \"were\", \"what\", \"what's\", \"when\", \"when's\", \"where\", \"where's\", \"which\", \"while\", \"who\", \"who's\", \"whom\", \"why\", \"why's\", \"with\", \"would\", \"you\", \"you'd\", \"you'll\", \"you're\", \"you've\", \"your\", \"yours\", \"yourself\", \"yourselves\" ]"
      ],
      "execution_count": 0,
      "outputs": []
    },
    {
      "cell_type": "code",
      "metadata": {
        "id": "RtHAQW6G3VTv",
        "colab_type": "code",
        "colab": {}
      },
      "source": [
        "#Function to remove stopwords\n",
        "def remove_stopwords(sentence):\n",
        "  for word in stopwords:\n",
        "    token=' '+word+' '\n",
        "    sentence=sentence.replace(token,' ')\n",
        "    sentence=sentence.replace('  ',' ')\n",
        "  return sentence"
      ],
      "execution_count": 0,
      "outputs": []
    },
    {
      "cell_type": "code",
      "metadata": {
        "id": "pv4FShuLwQwm",
        "colab_type": "code",
        "colab": {}
      },
      "source": [
        "#Function to get the plain text from the link of an article\n",
        "def get_article(link):\n",
        "  try:\n",
        "    from bs4 import BeautifulSoup\n",
        "    import urllib.request\n",
        "\n",
        "    user_agent = 'Mozilla/5.0 (Windows; U; Windows NT 5.1; en-US; rv:1.9.0.7) Gecko/2009021910 Firefox/3.0.7'\n",
        "\n",
        "    url = link\n",
        "\n",
        "    headers={'User-Agent':user_agent,} \n",
        "\n",
        "    request=urllib.request.Request(url,None,headers) #The assembled request\n",
        "    response = urllib.request.urlopen(request)\n",
        "    html= response.read()\n",
        "    soup = BeautifulSoup(html)\n",
        "\n",
        "    # kill all script and style elements\n",
        "    for script in soup([\"script\", \"style\"]):\n",
        "        script.extract()    # rip it out\n",
        "\n",
        "    # get text\n",
        "    text = soup.get_text()\n",
        "\n",
        "    # break into lines and remove leading and trailing space on each\n",
        "    lines = (line.strip() for line in text.splitlines())\n",
        "    # break multi-headlines into a line each\n",
        "    chunks = (phrase.strip() for line in lines for phrase in line.split(\"  \"))\n",
        "    # drop blank lines\n",
        "    text = '\\n'.join(chunk for chunk in chunks if chunk)\n",
        "    return ' '.join(text.split())\n",
        "  except:\n",
        "    return 'article not available'\n",
        "    pass\n",
        "  \n",
        " "
      ],
      "execution_count": 0,
      "outputs": []
    },
    {
      "cell_type": "code",
      "metadata": {
        "id": "avDhe2Hs0lrL",
        "colab_type": "code",
        "colab": {}
      },
      "source": [
        "#Function to separate the articles, headlines and labels from the data\n",
        "def extract(array):\n",
        "  \n",
        "  #articles=[]\n",
        "  headlines=[]\n",
        "  labels=[]\n",
        "  for i in range(len(array)):\n",
        "    labels.append(array[i]['is_sarcastic'])\n",
        "    headlines.append(remove_stopwords(array[i]['headline']))\n",
        "    #articles.append(get_article(array[i]['article_link']))\n",
        "  #return articles,headlines,labels\n",
        "  return headlines,labels"
      ],
      "execution_count": 0,
      "outputs": []
    },
    {
      "cell_type": "code",
      "metadata": {
        "id": "AFpG2G0W8kq7",
        "colab_type": "code",
        "colab": {}
      },
      "source": [
        "#Extracting articles, headlines and labels from the data\n",
        "#train_articles,train_headlines,train_labels=extract(train_set)\n",
        "train_headlines,train_labels=extract(train_set)\n",
        "#test_articles,test_headlines,test_labels=extract(test_set)\n",
        "test_headlines,test_labels=extract(test_set)"
      ],
      "execution_count": 0,
      "outputs": []
    },
    {
      "cell_type": "code",
      "metadata": {
        "id": "OMfJ4sL41MnL",
        "colab_type": "code",
        "colab": {}
      },
      "source": [
        "#Preprocessing the training and test headlines for the word embedding\n",
        "vocab_size = 10000\n",
        "embedding_dim = 100\n",
        "max_length = 120\n",
        "trunc_type='post'\n",
        "oov_tok = \"<OOV>\"\n",
        "\n",
        "import tensorflow as tf\n",
        "from tensorflow import keras\n",
        "from tensorflow.keras.preprocessing.text import Tokenizer\n",
        "from tensorflow.keras.preprocessing.sequence import pad_sequences\n",
        "\n",
        "tokenizer = Tokenizer(num_words = vocab_size, oov_token=oov_tok)\n",
        "tokenizer.fit_on_texts(train_headlines)\n",
        "word_index = tokenizer.word_index\n",
        "sequences = tokenizer.texts_to_sequences(train_headlines)\n",
        "padded = pad_sequences(sequences,maxlen=max_length, truncating=trunc_type)\n",
        "\n",
        "test_sequences = tokenizer.texts_to_sequences(test_headlines)\n",
        "test_padded = pad_sequences(test_sequences,maxlen=max_length)\n"
      ],
      "execution_count": 0,
      "outputs": []
    },
    {
      "cell_type": "code",
      "metadata": {
        "id": "8Z4t8mvm34Sl",
        "colab_type": "code",
        "colab": {}
      },
      "source": [
        "#Building the CNN Model\n",
        "model = tf.keras.Sequential([\n",
        "    tf.keras.layers.Embedding(vocab_size, embedding_dim, input_length=max_length),\n",
        "    tf.keras.layers.Conv1D(16,3,activation='relu'),\n",
        "    tf.keras.layers.MaxPooling1D(2),\n",
        "    #tf.keras.layers.Dropout(0.2),\n",
        "    tf.keras.layers.Flatten(),\n",
        "    tf.keras.layers.Dense(6, activation='relu'),\n",
        "    tf.keras.layers.Dense(1, activation='sigmoid')\n",
        "])\n",
        "#model.summary()"
      ],
      "execution_count": 0,
      "outputs": []
    },
    {
      "cell_type": "code",
      "metadata": {
        "id": "8fbYwVW8rUWN",
        "colab_type": "code",
        "outputId": "4bb1aca9-46ed-4a81-ba46-4511c1653810",
        "colab": {
          "base_uri": "https://localhost:8080/",
          "height": 1854
        }
      },
      "source": [
        "model.compile(loss='binary_crossentropy',optimizer='adagrad',metrics=['accuracy'])\n",
        "num_epochs = 50\n",
        "history=model.fit(padded, train_labels, epochs=num_epochs, validation_data=(test_padded, test_labels))"
      ],
      "execution_count": 60,
      "outputs": [
        {
          "output_type": "stream",
          "text": [
            "Train on 24038 samples, validate on 2671 samples\n",
            "Epoch 1/50\n",
            "24038/24038 [==============================] - 3s 142us/sample - loss: 0.6826 - acc: 0.5624 - val_loss: 0.6832 - val_acc: 0.5492\n",
            "Epoch 2/50\n",
            "24038/24038 [==============================] - 3s 115us/sample - loss: 0.6714 - acc: 0.5630 - val_loss: 0.6697 - val_acc: 0.5586\n",
            "Epoch 3/50\n",
            "24038/24038 [==============================] - 3s 116us/sample - loss: 0.6491 - acc: 0.6122 - val_loss: 0.6459 - val_acc: 0.6192\n",
            "Epoch 4/50\n",
            "24038/24038 [==============================] - 3s 118us/sample - loss: 0.6119 - acc: 0.6976 - val_loss: 0.6090 - val_acc: 0.6893\n",
            "Epoch 5/50\n",
            "24038/24038 [==============================] - 3s 114us/sample - loss: 0.5627 - acc: 0.7591 - val_loss: 0.5659 - val_acc: 0.7488\n",
            "Epoch 6/50\n",
            "24038/24038 [==============================] - 3s 113us/sample - loss: 0.5089 - acc: 0.8052 - val_loss: 0.5264 - val_acc: 0.7537\n",
            "Epoch 7/50\n",
            "24038/24038 [==============================] - 3s 110us/sample - loss: 0.4590 - acc: 0.8349 - val_loss: 0.4912 - val_acc: 0.7817\n",
            "Epoch 8/50\n",
            "24038/24038 [==============================] - 3s 110us/sample - loss: 0.4177 - acc: 0.8556 - val_loss: 0.4667 - val_acc: 0.7888\n",
            "Epoch 9/50\n",
            "24038/24038 [==============================] - 3s 111us/sample - loss: 0.3848 - acc: 0.8668 - val_loss: 0.4473 - val_acc: 0.8027\n",
            "Epoch 10/50\n",
            "24038/24038 [==============================] - 3s 111us/sample - loss: 0.3584 - acc: 0.8744 - val_loss: 0.4339 - val_acc: 0.8046\n",
            "Epoch 11/50\n",
            "24038/24038 [==============================] - 3s 113us/sample - loss: 0.3370 - acc: 0.8819 - val_loss: 0.4238 - val_acc: 0.8094\n",
            "Epoch 12/50\n",
            "24038/24038 [==============================] - 3s 114us/sample - loss: 0.3193 - acc: 0.8869 - val_loss: 0.4165 - val_acc: 0.8109\n",
            "Epoch 13/50\n",
            "24038/24038 [==============================] - 3s 111us/sample - loss: 0.3045 - acc: 0.8919 - val_loss: 0.4110 - val_acc: 0.8132\n",
            "Epoch 14/50\n",
            "24038/24038 [==============================] - 3s 111us/sample - loss: 0.2916 - acc: 0.8960 - val_loss: 0.4093 - val_acc: 0.8113\n",
            "Epoch 15/50\n",
            "24038/24038 [==============================] - 3s 110us/sample - loss: 0.2806 - acc: 0.9009 - val_loss: 0.4040 - val_acc: 0.8143\n",
            "Epoch 16/50\n",
            "24038/24038 [==============================] - 3s 112us/sample - loss: 0.2706 - acc: 0.9043 - val_loss: 0.4012 - val_acc: 0.8188\n",
            "Epoch 17/50\n",
            "24038/24038 [==============================] - 3s 110us/sample - loss: 0.2617 - acc: 0.9063 - val_loss: 0.3994 - val_acc: 0.8184\n",
            "Epoch 18/50\n",
            "24038/24038 [==============================] - 3s 110us/sample - loss: 0.2538 - acc: 0.9101 - val_loss: 0.3992 - val_acc: 0.8199\n",
            "Epoch 19/50\n",
            "24038/24038 [==============================] - 3s 110us/sample - loss: 0.2464 - acc: 0.9127 - val_loss: 0.3985 - val_acc: 0.8195\n",
            "Epoch 20/50\n",
            "24038/24038 [==============================] - 3s 111us/sample - loss: 0.2398 - acc: 0.9154 - val_loss: 0.3975 - val_acc: 0.8203\n",
            "Epoch 21/50\n",
            "24038/24038 [==============================] - 3s 110us/sample - loss: 0.2337 - acc: 0.9175 - val_loss: 0.3966 - val_acc: 0.8207\n",
            "Epoch 22/50\n",
            "24038/24038 [==============================] - 3s 110us/sample - loss: 0.2279 - acc: 0.9205 - val_loss: 0.3972 - val_acc: 0.8229\n",
            "Epoch 23/50\n",
            "24038/24038 [==============================] - 3s 111us/sample - loss: 0.2227 - acc: 0.9227 - val_loss: 0.3969 - val_acc: 0.8210\n",
            "Epoch 24/50\n",
            "24038/24038 [==============================] - 3s 110us/sample - loss: 0.2178 - acc: 0.9248 - val_loss: 0.3974 - val_acc: 0.8222\n",
            "Epoch 25/50\n",
            "24038/24038 [==============================] - 3s 109us/sample - loss: 0.2131 - acc: 0.9267 - val_loss: 0.3975 - val_acc: 0.8192\n",
            "Epoch 26/50\n",
            "24038/24038 [==============================] - 3s 111us/sample - loss: 0.2087 - acc: 0.9287 - val_loss: 0.3980 - val_acc: 0.8195\n",
            "Epoch 27/50\n",
            "24038/24038 [==============================] - 3s 110us/sample - loss: 0.2046 - acc: 0.9307 - val_loss: 0.3989 - val_acc: 0.8195\n",
            "Epoch 28/50\n",
            "24038/24038 [==============================] - 3s 111us/sample - loss: 0.2007 - acc: 0.9321 - val_loss: 0.4002 - val_acc: 0.8218\n",
            "Epoch 29/50\n",
            "24038/24038 [==============================] - 3s 110us/sample - loss: 0.1971 - acc: 0.9332 - val_loss: 0.4013 - val_acc: 0.8229\n",
            "Epoch 30/50\n",
            "24038/24038 [==============================] - 3s 108us/sample - loss: 0.1935 - acc: 0.9349 - val_loss: 0.4020 - val_acc: 0.8203\n",
            "Epoch 31/50\n",
            "24038/24038 [==============================] - 3s 110us/sample - loss: 0.1902 - acc: 0.9361 - val_loss: 0.4032 - val_acc: 0.8192\n",
            "Epoch 32/50\n",
            "24038/24038 [==============================] - 3s 111us/sample - loss: 0.1870 - acc: 0.9370 - val_loss: 0.4044 - val_acc: 0.8195\n",
            "Epoch 33/50\n",
            "24038/24038 [==============================] - 3s 110us/sample - loss: 0.1839 - acc: 0.9386 - val_loss: 0.4051 - val_acc: 0.8192\n",
            "Epoch 34/50\n",
            "24038/24038 [==============================] - 3s 113us/sample - loss: 0.1809 - acc: 0.9391 - val_loss: 0.4081 - val_acc: 0.8180\n",
            "Epoch 35/50\n",
            "24038/24038 [==============================] - 3s 111us/sample - loss: 0.1781 - acc: 0.9404 - val_loss: 0.4074 - val_acc: 0.8184\n",
            "Epoch 36/50\n",
            "24038/24038 [==============================] - 3s 112us/sample - loss: 0.1755 - acc: 0.9419 - val_loss: 0.4092 - val_acc: 0.8195\n",
            "Epoch 37/50\n",
            "24038/24038 [==============================] - 3s 110us/sample - loss: 0.1728 - acc: 0.9428 - val_loss: 0.4116 - val_acc: 0.8177\n",
            "Epoch 38/50\n",
            "24038/24038 [==============================] - 3s 110us/sample - loss: 0.1703 - acc: 0.9435 - val_loss: 0.4126 - val_acc: 0.8192\n",
            "Epoch 39/50\n",
            "24038/24038 [==============================] - 3s 109us/sample - loss: 0.1679 - acc: 0.9444 - val_loss: 0.4132 - val_acc: 0.8180\n",
            "Epoch 40/50\n",
            "24038/24038 [==============================] - 3s 110us/sample - loss: 0.1655 - acc: 0.9454 - val_loss: 0.4150 - val_acc: 0.8195\n",
            "Epoch 41/50\n",
            "24038/24038 [==============================] - 3s 110us/sample - loss: 0.1633 - acc: 0.9463 - val_loss: 0.4160 - val_acc: 0.8192\n",
            "Epoch 42/50\n",
            "24038/24038 [==============================] - 3s 110us/sample - loss: 0.1610 - acc: 0.9471 - val_loss: 0.4187 - val_acc: 0.8184\n",
            "Epoch 43/50\n",
            "24038/24038 [==============================] - 3s 111us/sample - loss: 0.1590 - acc: 0.9481 - val_loss: 0.4189 - val_acc: 0.8180\n",
            "Epoch 44/50\n",
            "24038/24038 [==============================] - 3s 112us/sample - loss: 0.1569 - acc: 0.9488 - val_loss: 0.4204 - val_acc: 0.8184\n",
            "Epoch 45/50\n",
            "24038/24038 [==============================] - 3s 112us/sample - loss: 0.1549 - acc: 0.9495 - val_loss: 0.4224 - val_acc: 0.8207\n",
            "Epoch 46/50\n",
            "24038/24038 [==============================] - 3s 112us/sample - loss: 0.1530 - acc: 0.9502 - val_loss: 0.4237 - val_acc: 0.8199\n",
            "Epoch 47/50\n",
            "24038/24038 [==============================] - 3s 110us/sample - loss: 0.1511 - acc: 0.9510 - val_loss: 0.4252 - val_acc: 0.8184\n",
            "Epoch 48/50\n",
            "24038/24038 [==============================] - 3s 111us/sample - loss: 0.1492 - acc: 0.9520 - val_loss: 0.4263 - val_acc: 0.8162\n",
            "Epoch 49/50\n",
            "24038/24038 [==============================] - 3s 110us/sample - loss: 0.1475 - acc: 0.9527 - val_loss: 0.4285 - val_acc: 0.8180\n",
            "Epoch 50/50\n",
            "24038/24038 [==============================] - 3s 111us/sample - loss: 0.1457 - acc: 0.9532 - val_loss: 0.4304 - val_acc: 0.8177\n"
          ],
          "name": "stdout"
        }
      ]
    },
    {
      "cell_type": "code",
      "metadata": {
        "id": "jkAx_IzhsQKt",
        "colab_type": "code",
        "outputId": "59f43d41-9898-4f96-d270-8e9b58ad81ce",
        "colab": {
          "base_uri": "https://localhost:8080/",
          "height": 521
        }
      },
      "source": [
        "#Evaluating Accuracy and Loss of the model\n",
        "%matplotlib inline\n",
        "acc=history.history['acc']\n",
        "val_acc=history.history['val_acc']\n",
        "loss=history.history['loss']\n",
        "val_loss=history.history['val_loss']\n",
        "\n",
        "epochs=range(len(acc)) #No. of epochs\n",
        "\n",
        "#Plot training and validation accuracy per epoch\n",
        "import matplotlib.pyplot as plt\n",
        "plt.plot(epochs,acc,'r',label='Training Accuracy')\n",
        "plt.plot(epochs,val_acc,'g',label='Testing Accuracy')\n",
        "plt.legend()\n",
        "plt.figure()\n",
        "\n",
        "#Plot training and validation loss per epoch\n",
        "plt.plot(epochs,loss,'r',label='Training Loss')\n",
        "plt.plot(epochs,val_loss,'g',label='Testing Loss')\n",
        "plt.legend()\n",
        "plt.show()"
      ],
      "execution_count": 61,
      "outputs": [
        {
          "output_type": "display_data",
          "data": {
            "image/png": "[encoded data removed]",
            "text/plain": [
              "<Figure size 432x288 with 1 Axes>"
            ]
          },
          "metadata": {
            "tags": []
          }
        },
        {
          "output_type": "display_data",
          "data": {
            "image/png": "[encoded data removed]",
            "text/plain": [
              "<Figure size 432x288 with 1 Axes>"
            ]
          },
          "metadata": {
            "tags": []
          }
        }
      ]
    }
  ]
}